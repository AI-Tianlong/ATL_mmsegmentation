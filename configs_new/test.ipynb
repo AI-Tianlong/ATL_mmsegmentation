{
 "cells": [
  {
   "cell_type": "code",
   "execution_count": 1,
   "metadata": {},
   "outputs": [],
   "source": [
    "# Copyright (c) OpenMMLab. All rights reserved.\n",
    "import argparse\n",
    "import logging\n",
    "import os\n",
    "import os.path as osp\n",
    "\n",
    "from mmengine.config import Config, DictAction\n",
    "from mmengine.logging import print_log\n",
    "from mmengine.runner import Runner\n",
    "\n",
    "from mmseg.registry import RUNNERS"
   ]
  },
  {
   "cell_type": "code",
   "execution_count": 29,
   "metadata": {},
   "outputs": [],
   "source": [
    "config_path = 'beit_adapter/beit_adapter_mask2former_4xb16_potsdam-512x512.py'\n",
    "cfg = Config.fromfile(config_path)"
   ]
  },
  {
   "cell_type": "code",
   "execution_count": 30,
   "metadata": {},
   "outputs": [
    {
     "data": {
      "text/plain": [
       "{'batch_size': 1,\n",
       " 'num_workers': 4,\n",
       " 'persistent_workers': True,\n",
       " 'sampler': {'type': mmengine.dataset.sampler.DefaultSampler,\n",
       "  'shuffle': False},\n",
       " 'dataset': {'type': mmseg.datasets.potsdam.PotsdamDataset,\n",
       "  'data_root': 'data/potsdam',\n",
       "  'data_prefix': {'img_path': 'img_dir/val', 'seg_map_path': 'ann_dir/val'},\n",
       "  'pipeline': [{'type': mmcv.transforms.loading.LoadImageFromFile},\n",
       "   {'type': mmcv.transforms.processing.Resize,\n",
       "    'scale': (512, 512),\n",
       "    'keep_ratio': True},\n",
       "   {'type': mmseg.datasets.transforms.loading.LoadAnnotations,\n",
       "    'reduce_zero_label': True},\n",
       "   {'type': mmseg.datasets.transforms.formatting.PackSegInputs}]}}"
      ]
     },
     "execution_count": 30,
     "metadata": {},
     "output_type": "execute_result"
    }
   ],
   "source": [
    "cfg.atl_dataloader"
   ]
  }
 ],
 "metadata": {
  "kernelspec": {
   "display_name": "atl-openmmlab",
   "language": "python",
   "name": "python3"
  },
  "language_info": {
   "codemirror_mode": {
    "name": "ipython",
    "version": 3
   },
   "file_extension": ".py",
   "mimetype": "text/x-python",
   "name": "python",
   "nbconvert_exporter": "python",
   "pygments_lexer": "ipython3",
   "version": "3.10.13"
  }
 },
 "nbformat": 4,
 "nbformat_minor": 2
}
