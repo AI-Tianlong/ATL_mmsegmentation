{
 "cells": [
  {
   "cell_type": "code",
   "execution_count": 2,
   "metadata": {},
   "outputs": [],
   "source": [
    "# Copyright (c) OpenMMLab. All rights reserved.\n",
    "import argparse\n",
    "import logging\n",
    "import os\n",
    "import os.path as osp\n",
    "\n",
    "from mmengine.config import Config, DictAction\n",
    "from mmengine.logging import print_log\n",
    "from mmengine.runner import Runner\n",
    "\n",
    "from mmseg.registry import RUNNERS"
   ]
  },
  {
   "cell_type": "code",
   "execution_count": 29,
   "metadata": {},
   "outputs": [],
   "source": [
    "config_path = './'\n",
    "cfg = Config.fromfile(config_path)"
   ]
  },
  {
   "cell_type": "code",
   "execution_count": 1,
   "metadata": {},
   "outputs": [
    {
     "ename": "NameError",
     "evalue": "name 'cfg' is not defined",
     "output_type": "error",
     "traceback": [
      "\u001b[0;31m---------------------------------------------------------------------------\u001b[0m",
      "\u001b[0;31mNameError\u001b[0m                                 Traceback (most recent call last)",
      "Cell \u001b[0;32mIn[1], line 1\u001b[0m\n\u001b[0;32m----> 1\u001b[0m \u001b[43mcfg\u001b[49m\u001b[38;5;241m.\u001b[39matl_dataloader\n",
      "\u001b[0;31mNameError\u001b[0m: name 'cfg' is not defined"
     ]
    }
   ],
   "source": [
    "cfg.atl_dataloader"
   ]
  },
  {
   "cell_type": "code",
   "execution_count": 3,
   "metadata": {},
   "outputs": [],
   "source": [
    "classes=('非农田', '其他作物', '冬季普通软麦', '春季普通软麦',\n",
    "            '冬季硬质小麦', '冬季黑麦','冬季大麦','春季大麦',\n",
    "            '燕麦','春季燕麦','谷物、玉米、爆米花','小黑麦',\n",
    "            '冬季小麦黑麦杂交种','小米、高粱','荞麦','大豆、大豆类',\n",
    "            '干豆类、蛋白作物','豆类','豌豆','马铃薯',\n",
    "            '冬季油菜籽','向日葵','亚麻布','大麻',\n",
    "            '香料、药用、烹饪植物、香料、草药',\n",
    "            '玉米青贮','采收的豆类青饲料','花卉、观赏植物',\n",
    "            '羊草','黑麦草','苜蓿、车轴草','三叶草',\n",
    "            '牧场、草地、草场、草','新鲜蔬菜','厨房花园',\n",
    "            '草莓','黄瓜','南瓜、西葫芦、葫芦','芦笋',\n",
    "            '菜花','白菜','大蒜','韭菜','洋葱','甜菜根',\n",
    "            '胡萝卜','甜菜根','甜菜','菊苣','菠菜',\n",
    "            '果园、水果','苹果','黑加仑','树莓',\n",
    "            '葡萄园、葡萄酒藤、葡萄区、葡萄',\n",
    "            '蘑菇、能源、转基因作物','苗圃',\n",
    "            '温室铝箔、薄膜', '树木、木材、森林',\n",
    "            '造林/重新造林','杨树','其他耕地作物',\n",
    "            '其他永久作物、种植园','休耕地、非作物',\n",
    "            '未维护的'\n",
    ")"
   ]
  },
  {
   "cell_type": "code",
   "execution_count": 6,
   "metadata": {},
   "outputs": [],
   "source": [
    "palette=[[255, 255, 255], [190, 190, 190], [6, 230, 230], [80, 50, 50],\n",
    "                 [4, 200, 3], [120, 120, 80], [140, 140, 140], [204, 5, 255],\n",
    "                 [230, 230, 230], [4, 250, 7], [224, 5, 255], [235, 255, 7],\n",
    "                 [150, 5, 61], [120, 120, 70], [8, 255, 51], [255, 6, 82],\n",
    "                 [143, 255, 140], [204, 255, 4], [255, 51, 7], [204, 70, 3],\n",
    "                 [0, 102, 200], [61, 230, 250], [255, 6, 51], [11, 102, 255],\n",
    "                 [255, 7, 71], [255, 9, 224], [9, 7, 230], [220, 220, 220],\n",
    "                 [255, 9, 92], [112, 9, 255], [8, 255, 214], [7, 255, 224],\n",
    "                 [255, 184, 6], [10, 255, 71], [255, 41, 10], [7, 255, 255],\n",
    "                 [224, 255, 8], [102, 8, 255], [255, 61, 6], [255, 194, 7],\n",
    "                 [255, 122, 8], [0, 255, 20], [255, 8, 41], [255, 5, 153],\n",
    "                 [6, 51, 255], [235, 12, 255], [160, 150, 20], [0, 163, 255],\n",
    "                 [140, 140, 140], [250, 10, 15], [20, 255, 0], [0, 0, 200],\n",
    "                 [250, 0, 150], [0, 150, 200], [0, 200, 250], [150, 200, 250],\n",
    "                 [250, 250, 250], [200, 200, 200], [200, 150, 150],\n",
    "                 [250, 200, 150], [150, 150, 0], [250, 150, 150], \n",
    "                 [250, 150, 0], [250, 200, 250], [200, 150, 0]]"
   ]
  },
  {
   "cell_type": "code",
   "execution_count": 7,
   "metadata": {},
   "outputs": [
    {
     "data": {
      "text/plain": [
       "65"
      ]
     },
     "execution_count": 7,
     "metadata": {},
     "output_type": "execute_result"
    }
   ],
   "source": [
    "len(classes)"
   ]
  },
  {
   "cell_type": "code",
   "execution_count": 8,
   "metadata": {},
   "outputs": [
    {
     "data": {
      "text/plain": [
       "65"
      ]
     },
     "execution_count": 8,
     "metadata": {},
     "output_type": "execute_result"
    }
   ],
   "source": [
    "len(palette)"
   ]
  }
 ],
 "metadata": {
  "kernelspec": {
   "display_name": "atl-openmmlab",
   "language": "python",
   "name": "python3"
  },
  "language_info": {
   "codemirror_mode": {
    "name": "ipython",
    "version": 3
   },
   "file_extension": ".py",
   "mimetype": "text/x-python",
   "name": "python",
   "nbconvert_exporter": "python",
   "pygments_lexer": "ipython3",
   "version": "3.10.13"
  }
 },
 "nbformat": 4,
 "nbformat_minor": 2
}
